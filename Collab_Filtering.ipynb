{
  "nbformat": 4,
  "nbformat_minor": 0,
  "metadata": {
    "colab": {
      "name": "Collab_Filtering.ipynb",
      "provenance": [],
      "collapsed_sections": []
    },
    "kernelspec": {
      "name": "python3",
      "display_name": "Python 3"
    }
  },
  "cells": [
    {
      "cell_type": "code",
      "metadata": {
        "id": "rWfsISSYvkTz"
      },
      "source": [
        "# importing neccessary libraries for the project\n",
        "import pandas as pd "
      ],
      "execution_count": 21,
      "outputs": []
    },
    {
      "cell_type": "code",
      "metadata": {
        "id": "FrwDLLvxyoWk"
      },
      "source": [
        "# Reading data files\n",
        "\n",
        "ratings = pd.read_csv(\"ratings.csv\")\n",
        "movies = pd.read_csv(\"movies.csv\")\n",
        "\n",
        "# Merging both data files \n",
        "\n",
        "ratings = pd.merge (movies, ratings).drop([\"genres\", \"timestamp\"],axis=1)\n",
        "ratings.head()"
      ],
      "execution_count": null,
      "outputs": []
    },
    {
      "cell_type": "code",
      "metadata": {
        "id": "a3Aan1qwyoaF"
      },
      "source": [
        "# Changing table ditribution for easier analysis using Pivot function\n",
        "\n",
        "user_ratings = ratings.pivot_table(index=[\"userId\"], columns=[\"title\"],values=\"rating\")   \n",
        "user_ratings.head()"
      ],
      "execution_count": null,
      "outputs": []
    },
    {
      "cell_type": "code",
      "metadata": {
        "id": "VFOy6a7vyomK"
      },
      "source": [
        "# Replacing NaN values with 0\n",
        "\n",
        "user_ratings = user_ratings.dropna(thresh=5, axis=1).fillna(0)\n",
        "user_ratings.head()"
      ],
      "execution_count": null,
      "outputs": []
    },
    {
      "cell_type": "code",
      "metadata": {
        "id": "F8pFZpZ1ypAn"
      },
      "source": [
        "# Using pearson correlation using user ratings\n",
        "\n",
        "item_similarity_df = user_ratings.corr(method = 'pearson')\n",
        "item_similarity_df.head(5)"
      ],
      "execution_count": null,
      "outputs": []
    },
    {
      "cell_type": "code",
      "metadata": {
        "id": "sO2SqnsayjRY"
      },
      "source": [
        "# Penalizing movies with lower ratings and rewarding ratings over the mean rating score\n",
        "\n",
        "def get_similar_movies(movie_name,user_rating):\n",
        "    similar_score = item_similarity_df[movie_name]*(user_rating-2.5)\n",
        "    similar_score = similar_score.sort_values(ascending=False)\n",
        "    \n",
        "    return similar_score"
      ],
      "execution_count": 30,
      "outputs": []
    },
    {
      "cell_type": "code",
      "metadata": {
        "id": "eW-EbSLfy6B4"
      },
      "source": [
        "# Trying out our recommendation system, defining ratings in action_lover\n",
        "\n",
        "action_lover = [(\"13th Warrior, The (1999)\",5),(\"300 (2007)\",4),(\"40-Year-Old Virgin, The (2005)\",1),(\"A-Team, The (2010)\",5)]\n",
        "\n",
        "similar_movies = pd.DataFrame()\n",
        "\n",
        "for movie,rating in action_lover:\n",
        "    similar_movies = similar_movies.append(get_similar_movies(movie,rating),ignore_index=True)\n",
        "\n",
        "similar_movies.head()\n",
        "similar_movies.sum().sort_values(ascending = False)"
      ],
      "execution_count": null,
      "outputs": []
    }
  ]
}